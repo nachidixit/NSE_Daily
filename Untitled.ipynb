{
 "cells": [
  {
   "cell_type": "code",
   "execution_count": 1,
   "id": "af5ecce5-0f2c-4320-99d2-250318247b1e",
   "metadata": {},
   "outputs": [
    {
     "name": "stderr",
     "output_type": "stream",
     "text": [
      "C:\\Users\\DATTA\\AppData\\Roaming\\Microsoft\\Windows\\Start Menu\\Programs\\Python 3.11\\NSE_Daily_Automation\\plot_graphs.py:8: UserWarning: Could not infer format, so each element will be parsed individually, falling back to `dateutil`. To ensure parsing is consistent and as-expected, please specify a format.\n",
      "  df['Date'] = pd.to_datetime(df['Date'])  # ✅ Now 'Date' instead of 'Date '\n"
     ]
    },
    {
     "name": "stdout",
     "output_type": "stream",
     "text": [
      "Line chart with SMA saved.\n",
      "Candlestick chart saved.\n",
      "MACD + RSI chart saved.\n"
     ]
    }
   ],
   "source": [
    "import plot_graphs\n",
    "\n",
    "df = plot_graphs.load_data()\n",
    "plot_graphs.plot_line_sma(df)\n",
    "plot_graphs.plot_candlestick(df)\n",
    "plot_graphs.plot_macd_rsi(df)\n"
   ]
  },
  {
   "cell_type": "code",
   "execution_count": null,
   "id": "7a5717ef-6a74-4b17-805a-6575008ca952",
   "metadata": {},
   "outputs": [],
   "source": []
  }
 ],
 "metadata": {
  "kernelspec": {
   "display_name": "Python 3 (ipykernel)",
   "language": "python",
   "name": "python3"
  },
  "language_info": {
   "codemirror_mode": {
    "name": "ipython",
    "version": 3
   },
   "file_extension": ".py",
   "mimetype": "text/x-python",
   "name": "python",
   "nbconvert_exporter": "python",
   "pygments_lexer": "ipython3",
   "version": "3.13.5"
  }
 },
 "nbformat": 4,
 "nbformat_minor": 5
}
